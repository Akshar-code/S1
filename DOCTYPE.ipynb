{
 "cells": [
  {
   "cell_type": "code",
   "execution_count": 9,
   "metadata": {},
   "outputs": [],
   "source": [
    "path=str(\"C:\\\\Users\\\\manoj\\\\Desktop\\\\fact-entry-internship-master\\\\Documents\\\\CA136375CR16.pdf\")\n",
    "#term=str(input('What term are you looking for'))\n",
    "#importing all the required libraries\n",
    "#C:\\Users\\AKSHAR\\Desktop\\Factentry project\\Factentry files\\CA136375CR16.pdf\n",
    "#C:\\Users\\manoj\\Downloads\\fact-entry-internship-master\\Documents\\CA136375CR16.pdf\n",
    "import nltk\n",
    "import io\n",
    "from fuzzywuzzy import fuzz\n",
    "from nltk.tokenize import word_tokenize\n",
    "from nltk.tag import pos_tag\n",
    "from price_parser import Price\n",
    "from pdfminer3.layout import LAParams, LTTextBox\n",
    "from pdfminer3.pdfpage import PDFPage\n",
    "from pdfminer3.pdfinterp import PDFResourceManager\n",
    "from pdfminer3.pdfinterp import PDFPageInterpreter\n",
    "from pdfminer3.converter import PDFPageAggregator\n",
    "from pdfminer3.converter import TextConverter\n",
    "from rake_nltk import Rake"
   ]
  },
  {
   "cell_type": "code",
   "execution_count": 18,
   "metadata": {},
   "outputs": [],
   "source": [
    "path=str(\"C:\\\\Users\\\\manoj\\\\Desktop\\\\fact-entry-internship-master\\\\Documents\\\\CA13607GFB55.pdf\")"
   ]
  },
  {
   "cell_type": "code",
   "execution_count": 19,
   "metadata": {},
   "outputs": [
    {
     "name": "stdout",
     "output_type": "stream",
     "text": [
      " \n",
      " \n",
      "\n",
      " \n",
      "\n",
      " \n",
      "\n",
      "FINAL TERMS OF \n",
      "\n",
      "CANADIAN IMPERIAL BANK OF COMMERCE  \n",
      "\n",
      "5 YEAR FIXED RATE SENIOR NOTES \n",
      "\n",
      " \n",
      " \n",
      " \n",
      "Serial Number:  7277 \n",
      " \n",
      "ISIN:  CA13607GFB55 \n",
      " \n",
      "Principal Amount:  C$1,500,000,000 \n",
      " \n",
      "Issue Date:  August 28, 2019 \n",
      " \n",
      "Maturity Date:  August 28, 2024 \n",
      " \n",
      "Issue Price: \n",
      " \n",
      "\n",
      "100% \n",
      " \n",
      "\n",
      " \n",
      "\n",
      " \n",
      "\n",
      "Coupon Rate:  2.35% \n",
      " \n",
      "Interest Payment Dates: Interest will be paid half-yearly in arrears on the 28th day of each February and August; \n",
      "commencing February  28,  2020,  and  ending  on  the  Maturity  Date.  If  a  day  that  would  otherwise  have  been  an \n",
      "Interest Payment Date is not a Business Day, such Interest Payment Date shall be the first following day that is a \n",
      "Business Day, and no further interest or other payment will be made in respect of such delay.   \n",
      " \n",
      "Redemption:  The  Senior  Notes  are  not  redeemable  prior  to  maturity.  The  foregoing  notwithstanding,  any \n",
      "redemption (for any reason) or purchase of the Senior Notes by the Bank will be subject to the condition that if \n",
      "such redemption or purchase would lead to a breach of the Bank’s TLAC requirements such redemption or purchase \n",
      "will be subject to the prior approval of the Superintendent. \n",
      " \n",
      "Status: The Senior Notes will be direct unsecured liabilities of CIBC ranking pari passu with all other unsecured \n",
      "and unsubordinated debt of CIBC. The Senior Notes do not constitute deposits that are insured under the CDIC Act. \n",
      " \n",
      "Bail-inable:  The  Senior  Notes  are  bail-inable  notes  subject  to  conversion  in  whole  or  in  part  –  by  means  of  a \n",
      "transaction  or  series  of  transactions  and  in  one  or  more  steps  –  into  common  shares  of  the  Bank  or  any  of  its \n",
      "affiliates under subsection 39.2(2.3) of the CDIC Act and to variation or extinguishment in consequence (“bail-in \n",
      "conversion”).  Despite  any  other  terms  of  the  Senior  Notes  or  laws  governing  the  Senior  Notes  or  any  other \n",
      "agreement, arrangement or understanding with respect to the Senior Notes, each holder or beneficial owner of a \n",
      "Senior Note is bound by the CDIC Act, including the bail-in conversion, is subject to the application of the laws of \n",
      "the Province of Ontario and the federal laws of Canada applicable therein in respect of the operation of the CDIC \n",
      "Act with respect to the Senior Notes, and attorns to the jurisdiction of the courts in the Province of Ontario. For a \n",
      "description  of  Canadian  bank  resolution  powers  and  the  consequent  risk  factors  attaching  to  the  Senior  Notes \n",
      "reference is made to  \n",
      "https://www.cibc.com/content/dam/about_cibc/investor_relations/pdfs/debt_info/disclosures/canadian-bail-in-\n",
      "website-disclosure-en.pdf which information is hereby incorporated by reference. \n",
      " \n",
      "Subsequent Holders:  Each  holder  or  beneficial  owner  of  a  Senior  Note  that  acquires  an  interest  in  the  Senior \n",
      "Note in the secondary market and any successors, assigns, heirs, executors, administrators, trustees in bankruptcy \n",
      "and legal representatives of any such holder or beneficial owner shall be deemed to acknowledge, accept, agree to \n",
      "be bound by and consent to the same provisions specified in the Senior Note to the same extent as the holders or \n",
      "beneficial owners that acquire an interest in the Senior Note upon its initial issuance, including, without limitation, \n",
      "with respect to the acknowledgement and agreement to be bound by and consent to the terms of the Senior Note \n",
      "related to the bail-in regime. \n",
      " \n",
      "\n",
      " - 1 - \n",
      "\n",
      "\f",
      "Events of Default: Non-payment of principal and interest when due for a period of 30 business days and acts of \n",
      "insolvency. Default rights may not be exercised where an order has been made pursuant to s. 39.13(1) of the CDIC \n",
      "Act in respect of the Bank. The Senior Notes will remain subject to bail-in conversion until repaid in full. \n",
      " \n",
      "Business Day: Any day on which commercial banks are open for business (including dealings in foreign exchange \n",
      "and foreign currency deposits) in Toronto, Canada. \n",
      " \n",
      "Discharge: CIBC will be discharged from its obligations under a Senior Note by paying to the holder or beneficial \n",
      "owner of the Senior Note all amounts stated to be payable on the terms set out herein. CIBC reserves the right to \n",
      "require surrender of the Senior Note to CIBC prior to making any final payment hereunder. \n",
      " \n",
      "Book Entry Only System: The Senior Notes will be evidenced by a single global note held by CDS, or its nominee \n",
      "on its behalf, as registered holder of the global note. Registration and transfers of interests in the Senior Notes will \n",
      "be made only through the Book Entry Only system of CDS. The Senior Notes must be purchased either directly or \n",
      "indirectly through a participant in the CDS Book Entry Only system. Subject to certain limited exceptions, no holder \n",
      "will be entitled to any certificate or other instrument from CIBC or CDS evidencing the ownership thereof, and no \n",
      "holder will be shown on the records maintained by CDS except through an agent who is a participant of CDS. \n",
      " \n",
      "Severability:  Each  provision  of  a  Senior  Note  shall  be  treated  as  separate  and  distinct  and  if  any  provision  a \n",
      "Senior  Note  is  held  to  be  unenforceable  or  invalid  for  any  reason,  it  shall  be  modified,  to  the  fullest  extent \n",
      "permitted by law, in order to achieve, to the extent possible, the intent of CIBC and the holder or, if unable to be \n",
      "modified,  to  be  ineffective  only  to  the  extent  of  each  unenforceable  or  invalid  provision,  without  affecting  the \n",
      "enforceability or validity of the remaining provisions. \n",
      " \n",
      "Set-Off:  The  holders  and  beneficial  owners  of  the  Senior  Notes  will  not  be  entitled  to  exercise,  or  direct  the \n",
      "exercise of, any set-off or netting rights with respect to the Senior Notes. \n",
      " \n",
      "Governing Law: Ontario and the federal laws of Canada applicable therein. \n",
      " \n",
      "Attornment: Courts of the Province of Ontario. \n",
      " \n",
      " \n",
      "\n",
      " - 2 - \n",
      "\n",
      "\f",
      "\n"
     ]
    }
   ],
   "source": [
    "file=open(path,'rb')\n",
    "resource_manager = PDFResourceManager()\n",
    "fake_file_handle = io.StringIO()\n",
    "converter = TextConverter(resource_manager, fake_file_handle, laparams=LAParams())\n",
    "page_interpreter = PDFPageInterpreter(resource_manager, converter)\n",
    "\n",
    "pg_no = 0\n",
    "pg1 = \"\"\n",
    "with file as fh:\n",
    "    for page in PDFPage.get_pages(fh,\n",
    "                                  caching=True,\n",
    "                                  check_extractable=True):\n",
    "        page_interpreter.process_page(page)\n",
    "        if(pg_no==0):\n",
    "            pg1 = fake_file_handle.getvalue()\n",
    "        pg_no+=1\n",
    "    text = fake_file_handle.getvalue()\n",
    "\n",
    "#close open handles\n",
    "converter.close()\n",
    "fake_file_handle.close()\n",
    "words=text\n",
    "print(words)\n"
   ]
  },
  {
   "cell_type": "code",
   "execution_count": 20,
   "metadata": {},
   "outputs": [],
   "source": [
    "#Removing unnecessary characters and tokenizing the words\n",
    "pg1=words\n",
    "from nltk.tokenize import RegexpTokenizer \n",
    "def remove_characters(x):\n",
    "    tk = RegexpTokenizer(r\"\\s|[\\.;#']\", gaps = True) \n",
    "    return tk.tokenize(x) \n",
    "tokenized_words = remove_characters(str(pg1))\n",
    "#print(tokenized_words)"
   ]
  },
  {
   "cell_type": "code",
   "execution_count": 21,
   "metadata": {},
   "outputs": [
    {
     "name": "stdout",
     "output_type": "stream",
     "text": [
      "45\n",
      "other payment will be made in respect of such delay Redemption: The Senior Notes are not redeemable prior to maturity\n",
      "-------------------------------------------------\n",
      "47\n",
      "are not redeemable prior to maturity The foregoing notwithstanding, any redemption (for any reason) or purchase of the Senior Notes\n",
      "-------------------------------------------------\n",
      "58\n",
      "reference is made to https://www cibc com/content/dam/about_cibc/investor_relations/pdfs/debt_info/disclosures/canadian-bail-in- website-disclosure-en pdf which information is hereby incorporated by reference Subsequent Holders: Each holder\n",
      "-------------------------------------------------\n",
      "The Sentence with Highest ratio is:\n",
      "**************************************************************\n",
      "reference is made to https://www cibc com/content/dam/about_cibc/investor_relations/pdfs/debt_info/disclosures/canadian-bail-in- website-disclosure-en pdf which information is hereby incorporated by reference Subsequent Holders: Each holder\n",
      "**************************************************************\n"
     ]
    }
   ],
   "source": [
    "#Finding the sentences where the word might occur\n",
    "max_ratio=0\n",
    "sentence=''\n",
    "letter=0\n",
    "for i in range(0,len(tokenized_words)):\n",
    "    ratio = fuzz.ratio(tokenized_words[i],'minimum denomination')\n",
    "    if ratio>40:\n",
    "        if ratio>max_ratio:\n",
    "            sentence=' '.join(tokenized_words[i-10:i+10])\n",
    "            print(ratio)\n",
    "            print(sentence)\n",
    "            print('-------------------------------------------------')\n",
    "            letter=i\n",
    "            max_ratio=ratio\n",
    "print('The Sentence with Highest ratio is:')\n",
    "print('**************************************************************')\n",
    "print(sentence)\n",
    "print('**************************************************************')"
   ]
  },
  {
   "cell_type": "code",
   "execution_count": 22,
   "metadata": {},
   "outputs": [
    {
     "name": "stdout",
     "output_type": "stream",
     "text": [
      "Price(amount=None, currency=None)\n"
     ]
    },
    {
     "ename": "NameError",
     "evalue": "name 'term' is not defined",
     "output_type": "error",
     "traceback": [
      "\u001b[1;31m---------------------------------------------------------------------------\u001b[0m",
      "\u001b[1;31mNameError\u001b[0m                                 Traceback (most recent call last)",
      "\u001b[1;32m<ipython-input-22-1b34a5eee49b>\u001b[0m in \u001b[0;36m<module>\u001b[1;34m\u001b[0m\n\u001b[0;32m      2\u001b[0m \u001b[0mprice\u001b[0m \u001b[1;33m=\u001b[0m \u001b[0mPrice\u001b[0m\u001b[1;33m.\u001b[0m\u001b[0mfromstring\u001b[0m\u001b[1;33m(\u001b[0m\u001b[0msentence\u001b[0m\u001b[1;33m)\u001b[0m\u001b[1;33m\u001b[0m\u001b[1;33m\u001b[0m\u001b[0m\n\u001b[0;32m      3\u001b[0m \u001b[0mprint\u001b[0m\u001b[1;33m(\u001b[0m\u001b[0mprice\u001b[0m\u001b[1;33m)\u001b[0m\u001b[1;33m\u001b[0m\u001b[1;33m\u001b[0m\u001b[0m\n\u001b[1;32m----> 4\u001b[1;33m \u001b[0mprint\u001b[0m\u001b[1;33m(\u001b[0m\u001b[1;34m'The value for'\u001b[0m\u001b[1;33m,\u001b[0m\u001b[0mterm\u001b[0m\u001b[1;33m,\u001b[0m\u001b[1;34m'is'\u001b[0m\u001b[1;33m,\u001b[0m\u001b[0mprice\u001b[0m\u001b[1;33m.\u001b[0m\u001b[0mamount\u001b[0m\u001b[1;33m)\u001b[0m\u001b[1;33m\u001b[0m\u001b[1;33m\u001b[0m\u001b[0m\n\u001b[0m",
      "\u001b[1;31mNameError\u001b[0m: name 'term' is not defined"
     ]
    }
   ],
   "source": [
    "#Retrieving the price and currency\n",
    "price = Price.fromstring(sentence)\n",
    "print(price)\n",
    "print('The value for',term,'is',price.amount)"
   ]
  },
  {
   "cell_type": "code",
   "execution_count": null,
   "metadata": {},
   "outputs": [],
   "source": []
  },
  {
   "cell_type": "code",
   "execution_count": 23,
   "metadata": {
    "scrolled": true
   },
   "outputs": [
    {
     "name": "stdout",
     "output_type": "stream",
     "text": [
      "{'final terms'}\n"
     ]
    }
   ],
   "source": [
    "r = Rake() \n",
    "\n",
    "r.extract_keywords_from_text(pg1)\n",
    "\n",
    "kw =  r.get_ranked_phrases() \n",
    "\n",
    "docType = {'prospectus supplement',\n",
    "'information memorandum',\n",
    "'preliminary prospectus',\n",
    "'final terms',\n",
    "'pricing term sheet',\n",
    "'offering memorandum',\n",
    "'pricing supplement',\n",
    "'prospectus',\n",
    "'base prospectus',\n",
    "'base with pricing'}\n",
    "print(docType.intersection(kw))\n",
    "\n"
   ]
  },
  {
   "cell_type": "code",
   "execution_count": null,
   "metadata": {},
   "outputs": [],
   "source": []
  }
 ],
 "metadata": {
  "kernelspec": {
   "display_name": "Python 3",
   "language": "python",
   "name": "python3"
  },
  "language_info": {
   "codemirror_mode": {
    "name": "ipython",
    "version": 3
   },
   "file_extension": ".py",
   "mimetype": "text/x-python",
   "name": "python",
   "nbconvert_exporter": "python",
   "pygments_lexer": "ipython3",
   "version": "3.7.6"
  }
 },
 "nbformat": 4,
 "nbformat_minor": 2
}
