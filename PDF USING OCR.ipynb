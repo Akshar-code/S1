{
 "cells": [
  {
   "cell_type": "code",
   "execution_count": 1,
   "metadata": {},
   "outputs": [
    {
     "name": "stdout",
     "output_type": "stream",
     "text": [
      "Collecting PyMuPDF\n",
      "  Downloading PyMuPDF-1.17.2-cp37-cp37m-win_amd64.whl (5.1 MB)\n",
      "Installing collected packages: PyMuPDF\n",
      "Successfully installed PyMuPDF-1.17.2\n",
      "Note: you may need to restart the kernel to use updated packages.\n"
     ]
    },
    {
     "name": "stderr",
     "output_type": "stream",
     "text": [
      "WARNING: You are using pip version 20.1; however, version 20.1.1 is available.\n",
      "You should consider upgrading via the 'C:\\Users\\FAIZAN\\Anaconda3\\python.exe -m pip install --upgrade pip' command.\n"
     ]
    }
   ],
   "source": [
    "pip install PyMuPDF"
   ]
  },
  {
   "cell_type": "code",
   "execution_count": 23,
   "metadata": {},
   "outputs": [
    {
     "name": "stdout",
     "output_type": "stream",
     "text": [
      "end of the pdf\n"
     ]
    }
   ],
   "source": [
    "import fitz\n",
    "pdffile = \"doc-2.pdf\"\n",
    "doc = fitz.open(pdffile)\n",
    "for i in range(0,100):\n",
    "    try:\n",
    "        page = doc.loadPage(i)#number of page\n",
    "    except:\n",
    "        print(\"end of the pdf\")\n",
    "        break\n",
    "    pix = page.getPixmap()\n",
    "    output = \"outfile-\"+str(i)+\".png\"\n",
    "    pix.writePNG(output)"
   ]
  },
  {
   "cell_type": "code",
   "execution_count": 24,
   "metadata": {},
   "outputs": [
    {
     "name": "stdout",
     "output_type": "stream",
     "text": [
      "8\n"
     ]
    }
   ],
   "source": [
    "print(i)"
   ]
  },
  {
   "cell_type": "code",
   "execution_count": 14,
   "metadata": {},
   "outputs": [],
   "source": [
    "from PIL import Image\n",
    "import pytesseract\n",
    "import argparse\n",
    "import cv2\n",
    "import os"
   ]
  },
  {
   "cell_type": "code",
   "execution_count": 32,
   "metadata": {},
   "outputs": [],
   "source": [
    "img=cv2.imread('outfile-2.png')"
   ]
  },
  {
   "cell_type": "code",
   "execution_count": 33,
   "metadata": {},
   "outputs": [],
   "source": [
    "gray = cv2.cvtColor(img, cv2.COLOR_BGR2GRAY)"
   ]
  },
  {
   "cell_type": "code",
   "execution_count": 35,
   "metadata": {},
   "outputs": [],
   "source": [
    "pytesseract.pytesseract.tesseract_cmd='C:\\\\Program Files (x86)\\\\Tesseract-OCR\\\\tesseract.exe'\n",
    "text = pytesseract.image_to_string(Image.open('outfile-2.png'),config='-psm 6',lang='eng')\n",
    "\n"
   ]
  },
  {
   "cell_type": "code",
   "execution_count": 36,
   "metadata": {},
   "outputs": [
    {
     "name": "stdout",
     "output_type": "stream",
     "text": [
      "i\n",
      "Bnteasnge, toi Progrannintngungenkennltiee tew speiswen\n",
      "Canitons vat as scool he Prae Conttonn\n",
      "as: Ta L e Endatigen st in Vatindung mit dan Ste de Proprimmte:\n",
      "ert Telachlavectvengen mi teien innate Anwendung tnd, au te:\n",
      "so, de as Onion im Asiproalt entnaten . Begit, cia n den Propramntedngun:\n",
      "go getin in, haten avabe esectig, we si in esen Endyitigen Bedingungen\n",
      "vevendetercen\n",
      "Bersqrahnan in close Tt 1 de Endpitigen Beingungen aut Parsgrahen und\n",
      "berate ich aut i Paragon und Advitr de Progrenmbecngungen.\n",
      "O in dan at cie Bestmmungen cer\n",
      "Proprainitngungen goten an cur ci inca Endaiigen esigungen entratenn A.\n",
      "qase avntd, i t cin inden bevrfentn Betinnngen rch lase Arge-\n",
      "ben wire. Sitene Ontonen dr Progammbedinginge, ia rch urch cl in\n",
      "dn Bedingungen enthatnen Angaben angevint un arte, goten\n",
      "aidan au d Tlschutrencvnbungen getichon\n",
      "Thi Pot h Fa Tare i t t mad n conincton wn e ano reganne Contton nat\n",
      "Nas wan Fass ns at ofone ase Prespa as Opto L Copainesoms\n",
      "suits te mewnings n te Prpanne Contro\n",
      "A mteunces nts Par I of e Fra Tore to nantwnpangons and itpwngagts we to\n",
      "and t r Propane Corstors\n",
      "The anserine n h prions ot h Pregame Contton ach we aecicata t h Nts\n",
      "wha s genes t b conglons by b romain cerared n e Fri Tome a # s nloma:\n",
      "ten wo erst n m pared t men pons. At n he roganne Conttors\n",
      "wih we rt sate an nt cont b me nomatincotanes nre Fai Toms sot bo\n",
      "dearest e dans tom te Craton apical ne aes\n",
      "a\n"
     ]
    }
   ],
   "source": [
    "print(text)"
   ]
  },
  {
   "cell_type": "code",
   "execution_count": null,
   "metadata": {},
   "outputs": [],
   "source": [
    "for j in range(0,2):\n",
    "    "
   ]
  }
 ],
 "metadata": {
  "kernelspec": {
   "display_name": "Python 3",
   "language": "python",
   "name": "python3"
  },
  "language_info": {
   "codemirror_mode": {
    "name": "ipython",
    "version": 3
   },
   "file_extension": ".py",
   "mimetype": "text/x-python",
   "name": "python",
   "nbconvert_exporter": "python",
   "pygments_lexer": "ipython3",
   "version": "3.7.4"
  }
 },
 "nbformat": 4,
 "nbformat_minor": 2
}
